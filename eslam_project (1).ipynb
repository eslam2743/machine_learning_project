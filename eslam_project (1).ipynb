{
 "cells": [
  {
   "cell_type": "code",
   "execution_count": 1,
   "id": "2cd94748",
   "metadata": {},
   "outputs": [
    {
     "name": "stdout",
     "output_type": "stream",
     "text": [
      "numpy : 1.21.5\n",
      "pandas : 1.4.2\n",
      "seaborn : 0.11.2\n"
     ]
    }
   ],
   "source": [
    "#import the libraries\n",
    "\n",
    "import pandas as pd\n",
    "import matplotlib.pyplot as plt\n",
    "import seaborn as sns\n",
    "import numpy as np\n",
    "\n",
    "print(\"numpy :\" , np.__version__)\n",
    "print(\"pandas :\" , pd.__version__)\n",
    "print(\"seaborn :\" , sns.__version__)\n"
   ]
  },
  {
   "cell_type": "code",
   "execution_count": 2,
   "id": "76635458",
   "metadata": {},
   "outputs": [],
   "source": [
    "#Load my dataset:\n",
    "\n",
    "df = pd.read_csv('C:\\\\Users\\\\eslam\\\\Desktop\\\\project\\\\insurance.csv')"
   ]
  },
  {
   "cell_type": "code",
   "execution_count": 3,
   "id": "3d70ede9",
   "metadata": {},
   "outputs": [
    {
     "data": {
      "text/html": [
       "<div>\n",
       "<style scoped>\n",
       "    .dataframe tbody tr th:only-of-type {\n",
       "        vertical-align: middle;\n",
       "    }\n",
       "\n",
       "    .dataframe tbody tr th {\n",
       "        vertical-align: top;\n",
       "    }\n",
       "\n",
       "    .dataframe thead th {\n",
       "        text-align: right;\n",
       "    }\n",
       "</style>\n",
       "<table border=\"1\" class=\"dataframe\">\n",
       "  <thead>\n",
       "    <tr style=\"text-align: right;\">\n",
       "      <th></th>\n",
       "      <th>age</th>\n",
       "      <th>sex</th>\n",
       "      <th>bmi</th>\n",
       "      <th>children</th>\n",
       "      <th>smoker</th>\n",
       "      <th>region</th>\n",
       "      <th>charges</th>\n",
       "    </tr>\n",
       "  </thead>\n",
       "  <tbody>\n",
       "    <tr>\n",
       "      <th>0</th>\n",
       "      <td>19</td>\n",
       "      <td>female</td>\n",
       "      <td>27.900</td>\n",
       "      <td>0</td>\n",
       "      <td>yes</td>\n",
       "      <td>southwest</td>\n",
       "      <td>16884.92400</td>\n",
       "    </tr>\n",
       "    <tr>\n",
       "      <th>1</th>\n",
       "      <td>18</td>\n",
       "      <td>male</td>\n",
       "      <td>33.770</td>\n",
       "      <td>1</td>\n",
       "      <td>no</td>\n",
       "      <td>southeast</td>\n",
       "      <td>1725.55230</td>\n",
       "    </tr>\n",
       "    <tr>\n",
       "      <th>2</th>\n",
       "      <td>28</td>\n",
       "      <td>male</td>\n",
       "      <td>33.000</td>\n",
       "      <td>3</td>\n",
       "      <td>no</td>\n",
       "      <td>southeast</td>\n",
       "      <td>4449.46200</td>\n",
       "    </tr>\n",
       "    <tr>\n",
       "      <th>3</th>\n",
       "      <td>33</td>\n",
       "      <td>male</td>\n",
       "      <td>22.705</td>\n",
       "      <td>0</td>\n",
       "      <td>no</td>\n",
       "      <td>northwest</td>\n",
       "      <td>21984.47061</td>\n",
       "    </tr>\n",
       "    <tr>\n",
       "      <th>4</th>\n",
       "      <td>32</td>\n",
       "      <td>male</td>\n",
       "      <td>28.880</td>\n",
       "      <td>0</td>\n",
       "      <td>no</td>\n",
       "      <td>northwest</td>\n",
       "      <td>3866.85520</td>\n",
       "    </tr>\n",
       "  </tbody>\n",
       "</table>\n",
       "</div>"
      ],
      "text/plain": [
       "   age     sex     bmi  children smoker     region      charges\n",
       "0   19  female  27.900         0    yes  southwest  16884.92400\n",
       "1   18    male  33.770         1     no  southeast   1725.55230\n",
       "2   28    male  33.000         3     no  southeast   4449.46200\n",
       "3   33    male  22.705         0     no  northwest  21984.47061\n",
       "4   32    male  28.880         0     no  northwest   3866.85520"
      ]
     },
     "execution_count": 3,
     "metadata": {},
     "output_type": "execute_result"
    }
   ],
   "source": [
    "#Explore the dataset\n",
    "# Display the first 5 rows of the dataset\n",
    "\n",
    "df.head()"
   ]
  },
  {
   "cell_type": "code",
   "execution_count": 4,
   "id": "5f2edcf2",
   "metadata": {},
   "outputs": [
    {
     "data": {
      "text/html": [
       "<div>\n",
       "<style scoped>\n",
       "    .dataframe tbody tr th:only-of-type {\n",
       "        vertical-align: middle;\n",
       "    }\n",
       "\n",
       "    .dataframe tbody tr th {\n",
       "        vertical-align: top;\n",
       "    }\n",
       "\n",
       "    .dataframe thead th {\n",
       "        text-align: right;\n",
       "    }\n",
       "</style>\n",
       "<table border=\"1\" class=\"dataframe\">\n",
       "  <thead>\n",
       "    <tr style=\"text-align: right;\">\n",
       "      <th></th>\n",
       "      <th>age</th>\n",
       "      <th>bmi</th>\n",
       "      <th>children</th>\n",
       "      <th>charges</th>\n",
       "    </tr>\n",
       "  </thead>\n",
       "  <tbody>\n",
       "    <tr>\n",
       "      <th>count</th>\n",
       "      <td>1218.000000</td>\n",
       "      <td>1218.000000</td>\n",
       "      <td>1218.000000</td>\n",
       "      <td>1218.000000</td>\n",
       "    </tr>\n",
       "    <tr>\n",
       "      <th>mean</th>\n",
       "      <td>39.193760</td>\n",
       "      <td>30.706769</td>\n",
       "      <td>1.087849</td>\n",
       "      <td>13201.635843</td>\n",
       "    </tr>\n",
       "    <tr>\n",
       "      <th>std</th>\n",
       "      <td>14.032135</td>\n",
       "      <td>6.113779</td>\n",
       "      <td>1.211965</td>\n",
       "      <td>12035.699778</td>\n",
       "    </tr>\n",
       "    <tr>\n",
       "      <th>min</th>\n",
       "      <td>18.000000</td>\n",
       "      <td>15.960000</td>\n",
       "      <td>0.000000</td>\n",
       "      <td>1121.873900</td>\n",
       "    </tr>\n",
       "    <tr>\n",
       "      <th>25%</th>\n",
       "      <td>27.000000</td>\n",
       "      <td>26.220000</td>\n",
       "      <td>0.000000</td>\n",
       "      <td>4724.369462</td>\n",
       "    </tr>\n",
       "    <tr>\n",
       "      <th>50%</th>\n",
       "      <td>39.000000</td>\n",
       "      <td>30.447500</td>\n",
       "      <td>1.000000</td>\n",
       "      <td>9382.033000</td>\n",
       "    </tr>\n",
       "    <tr>\n",
       "      <th>75%</th>\n",
       "      <td>51.000000</td>\n",
       "      <td>34.792500</td>\n",
       "      <td>2.000000</td>\n",
       "      <td>16454.504562</td>\n",
       "    </tr>\n",
       "    <tr>\n",
       "      <th>max</th>\n",
       "      <td>64.000000</td>\n",
       "      <td>53.130000</td>\n",
       "      <td>5.000000</td>\n",
       "      <td>63770.428010</td>\n",
       "    </tr>\n",
       "  </tbody>\n",
       "</table>\n",
       "</div>"
      ],
      "text/plain": [
       "               age          bmi     children       charges\n",
       "count  1218.000000  1218.000000  1218.000000   1218.000000\n",
       "mean     39.193760    30.706769     1.087849  13201.635843\n",
       "std      14.032135     6.113779     1.211965  12035.699778\n",
       "min      18.000000    15.960000     0.000000   1121.873900\n",
       "25%      27.000000    26.220000     0.000000   4724.369462\n",
       "50%      39.000000    30.447500     1.000000   9382.033000\n",
       "75%      51.000000    34.792500     2.000000  16454.504562\n",
       "max      64.000000    53.130000     5.000000  63770.428010"
      ]
     },
     "execution_count": 4,
     "metadata": {},
     "output_type": "execute_result"
    }
   ],
   "source": [
    "# Display the summary statistics of numerical columns\n",
    "\n",
    "df.describe()\n"
   ]
  },
  {
   "cell_type": "code",
   "execution_count": 5,
   "id": "4f2e5a6d",
   "metadata": {},
   "outputs": [
    {
     "data": {
      "text/plain": [
       "age         0\n",
       "sex         0\n",
       "bmi         0\n",
       "children    0\n",
       "smoker      0\n",
       "region      0\n",
       "charges     0\n",
       "dtype: int64"
      ]
     },
     "execution_count": 5,
     "metadata": {},
     "output_type": "execute_result"
    }
   ],
   "source": [
    "# Check for missing values\n",
    "\n",
    "\n",
    "df.isnull().sum()"
   ]
  },
  {
   "cell_type": "code",
   "execution_count": 6,
   "id": "589608c5",
   "metadata": {},
   "outputs": [
    {
     "data": {
      "text/plain": [
       "age           int64\n",
       "sex          object\n",
       "bmi         float64\n",
       "children      int64\n",
       "smoker       object\n",
       "region       object\n",
       "charges     float64\n",
       "dtype: object"
      ]
     },
     "execution_count": 6,
     "metadata": {},
     "output_type": "execute_result"
    }
   ],
   "source": [
    "# Display the data types of columns\n",
    "\n",
    "df.dtypes\n"
   ]
  },
  {
   "cell_type": "code",
   "execution_count": 7,
   "id": "a7525bd9",
   "metadata": {},
   "outputs": [
    {
     "data": {
      "text/plain": [
       "age           47\n",
       "sex            2\n",
       "bmi          526\n",
       "children       6\n",
       "smoker         2\n",
       "region         4\n",
       "charges     1218\n",
       "dtype: int64"
      ]
     },
     "execution_count": 7,
     "metadata": {},
     "output_type": "execute_result"
    }
   ],
   "source": [
    "# display the number of unique values in each column\n",
    "\n",
    "\n",
    "df.nunique()"
   ]
  },
  {
   "cell_type": "code",
   "execution_count": 8,
   "id": "8964923f",
   "metadata": {},
   "outputs": [
    {
     "data": {
      "image/png": "[encoded data removed]",
      "text/plain": [
       "<Figure size 432x288 with 1 Axes>"
      ]
     },
     "metadata": {
      "needs_background": "light"
     },
     "output_type": "display_data"
    }
   ],
   "source": [
    "#Visualize the dataset\n",
    "\n",
    "#Visualize the column \"age\" with Histogram\n",
    "\n",
    "plt.hist(df['age'], bins=20)\n",
    "plt.xlabel('Age')\n",
    "plt.ylabel('Count')\n",
    "plt.title('Distribution of Age')\n",
    "plt.show()"
   ]
  },
  {
   "cell_type": "code",
   "execution_count": 9,
   "id": "16b2c3ff",
   "metadata": {},
   "outputs": [
    {
     "name": "stderr",
     "output_type": "stream",
     "text": [
      "C:\\Users\\eslam\\anaconda3\\lib\\site-packages\\seaborn\\_decorators.py:36: FutureWarning: Pass the following variable as a keyword arg: x. From version 0.12, the only valid positional argument will be `data`, and passing other arguments without an explicit keyword will result in an error or misinterpretation.\n",
      "  warnings.warn(\n"
     ]
    },
    {
     "data": {
      "image/png": "[encoded data removed]",
      "text/plain": [
       "<Figure size 432x288 with 1 Axes>"
      ]
     },
     "metadata": {
      "needs_background": "light"
     },
     "output_type": "display_data"
    }
   ],
   "source": [
    "#Visualize the column \"sex\" with Bar plot\n",
    "\n",
    "\n",
    "sns.countplot(df['sex'])\n",
    "plt.xlabel('Sex')\n",
    "plt.ylabel('Count')\n",
    "plt.title('Distribution of Sex')\n",
    "plt.show()"
   ]
  },
  {
   "cell_type": "code",
   "execution_count": 10,
   "id": "524439d0",
   "metadata": {},
   "outputs": [
    {
     "name": "stderr",
     "output_type": "stream",
     "text": [
      "C:\\Users\\eslam\\anaconda3\\lib\\site-packages\\seaborn\\_decorators.py:36: FutureWarning: Pass the following variables as keyword args: x, y. From version 0.12, the only valid positional argument will be `data`, and passing other arguments without an explicit keyword will result in an error or misinterpretation.\n",
      "  warnings.warn(\n"
     ]
    },
    {
     "data": {
      "image/png": "[encoded data removed]",
      "text/plain": [
       "<Figure size 432x288 with 1 Axes>"
      ]
     },
     "metadata": {
      "needs_background": "light"
     },
     "output_type": "display_data"
    }
   ],
   "source": [
    "#Visualize the column \"smoker\" and \"charges\" with box plot\n",
    "\n",
    "sns.boxplot(df['smoker'], df['charges'])\n",
    "plt.xlabel('Smoker')\n",
    "plt.ylabel('Charges')\n",
    "plt.title('Charges Distribution by Smoker')\n",
    "plt.show()"
   ]
  },
  {
   "cell_type": "code",
   "execution_count": 11,
   "id": "fa167c83",
   "metadata": {},
   "outputs": [
    {
     "data": {
      "image/png": "[encoded data removed]",
      "text/plain": [
       "<Figure size 432x288 with 1 Axes>"
      ]
     },
     "metadata": {
      "needs_background": "light"
     },
     "output_type": "display_data"
    }
   ],
   "source": [
    "#Visualize the column \"bmi\" and \"charges\" with  scatter\n",
    "\n",
    "plt.scatter(df['bmi'], df['charges'])\n",
    "plt.xlabel('BMI')\n",
    "plt.ylabel('Charges')\n",
    "plt.title('Charges and BMI')\n",
    "plt.show()"
   ]
  },
  {
   "cell_type": "code",
   "execution_count": 12,
   "id": "b5c14799",
   "metadata": {},
   "outputs": [],
   "source": [
    "# Define a function to remove outliers using the IQR method\n",
    "def remove_outliers(df, column):\n",
    "    Q1 = df[column].quantile(0.25)\n",
    "    Q3 = df[column].quantile(0.75)\n",
    "    IQR = Q3 - Q1\n",
    "    lower_bound = Q1 - 1.5 * IQR\n",
    "    upper_bound = Q3 + 1.5 * IQR\n",
    "    df = df[(df[column] >= lower_bound) & (df[column] <= upper_bound)]\n",
    "    return df\n",
    "\n",
    "# Remove outliers from numerical columns\n",
    "data_cleaned = df.copy()\n",
    "data_cleaned = remove_outliers(data_cleaned, 'age')\n",
    "data_cleaned = remove_outliers(data_cleaned, 'bmi')\n",
    "data_cleaned = remove_outliers(data_cleaned, 'charges')"
   ]
  },
  {
   "cell_type": "code",
   "execution_count": 13,
   "id": "3db26b50",
   "metadata": {},
   "outputs": [
    {
     "data": {
      "text/plain": [
       "Index(['sex', 'smoker', 'region'], dtype='object')"
      ]
     },
     "execution_count": 13,
     "metadata": {},
     "output_type": "execute_result"
    }
   ],
   "source": [
    "# Identify categorical columns\n",
    "\n",
    "\n",
    "categorical_columns = df.select_dtypes(include=['object']).columns\n",
    "categorical_columns"
   ]
  },
  {
   "cell_type": "code",
   "execution_count": 14,
   "id": "e6535351",
   "metadata": {},
   "outputs": [
    {
     "name": "stdout",
     "output_type": "stream",
     "text": [
      "   age     bmi  children      charges  sex_male  smoker_yes  region_northwest  \\\n",
      "0   19  27.900         0  16884.92400         0           1                 0   \n",
      "1   18  33.770         1   1725.55230         1           0                 0   \n",
      "2   28  33.000         3   4449.46200         1           0                 0   \n",
      "3   33  22.705         0  21984.47061         1           0                 1   \n",
      "4   32  28.880         0   3866.85520         1           0                 1   \n",
      "\n",
      "   region_southeast  region_southwest  \n",
      "0                 0                 1  \n",
      "1                 1                 0  \n",
      "2                 1                 0  \n",
      "3                 0                 0  \n",
      "4                 0                 0  \n"
     ]
    }
   ],
   "source": [
    "# Perform one-hot encoding for categorical columns\n",
    "\n",
    "\n",
    "from sklearn.preprocessing import OneHotEncoder\n",
    "df = pd.get_dummies(df, columns=['sex'], prefix = ['sex'] , drop_first=True)\n",
    "df = pd.get_dummies(df, columns=['smoker'], prefix = ['smoker'] , drop_first=True)\n",
    "df = pd.get_dummies(df, columns=['region'], prefix = ['region'] , drop_first=True)\n",
    "\n",
    "print(df.head())"
   ]
  },
  {
   "cell_type": "code",
   "execution_count": 15,
   "id": "b907c98d",
   "metadata": {},
   "outputs": [
    {
     "data": {
      "text/html": [
       "<div>\n",
       "<style scoped>\n",
       "    .dataframe tbody tr th:only-of-type {\n",
       "        vertical-align: middle;\n",
       "    }\n",
       "\n",
       "    .dataframe tbody tr th {\n",
       "        vertical-align: top;\n",
       "    }\n",
       "\n",
       "    .dataframe thead th {\n",
       "        text-align: right;\n",
       "    }\n",
       "</style>\n",
       "<table border=\"1\" class=\"dataframe\">\n",
       "  <thead>\n",
       "    <tr style=\"text-align: right;\">\n",
       "      <th></th>\n",
       "      <th>age</th>\n",
       "      <th>bmi</th>\n",
       "      <th>children</th>\n",
       "      <th>charges</th>\n",
       "      <th>sex_male</th>\n",
       "      <th>smoker_yes</th>\n",
       "      <th>region_northwest</th>\n",
       "      <th>region_southeast</th>\n",
       "      <th>region_southwest</th>\n",
       "    </tr>\n",
       "  </thead>\n",
       "  <tbody>\n",
       "    <tr>\n",
       "      <th>0</th>\n",
       "      <td>19</td>\n",
       "      <td>27.900</td>\n",
       "      <td>0</td>\n",
       "      <td>16884.92400</td>\n",
       "      <td>0</td>\n",
       "      <td>1</td>\n",
       "      <td>0</td>\n",
       "      <td>0</td>\n",
       "      <td>1</td>\n",
       "    </tr>\n",
       "    <tr>\n",
       "      <th>1</th>\n",
       "      <td>18</td>\n",
       "      <td>33.770</td>\n",
       "      <td>1</td>\n",
       "      <td>1725.55230</td>\n",
       "      <td>1</td>\n",
       "      <td>0</td>\n",
       "      <td>0</td>\n",
       "      <td>1</td>\n",
       "      <td>0</td>\n",
       "    </tr>\n",
       "    <tr>\n",
       "      <th>2</th>\n",
       "      <td>28</td>\n",
       "      <td>33.000</td>\n",
       "      <td>3</td>\n",
       "      <td>4449.46200</td>\n",
       "      <td>1</td>\n",
       "      <td>0</td>\n",
       "      <td>0</td>\n",
       "      <td>1</td>\n",
       "      <td>0</td>\n",
       "    </tr>\n",
       "    <tr>\n",
       "      <th>3</th>\n",
       "      <td>33</td>\n",
       "      <td>22.705</td>\n",
       "      <td>0</td>\n",
       "      <td>21984.47061</td>\n",
       "      <td>1</td>\n",
       "      <td>0</td>\n",
       "      <td>1</td>\n",
       "      <td>0</td>\n",
       "      <td>0</td>\n",
       "    </tr>\n",
       "    <tr>\n",
       "      <th>4</th>\n",
       "      <td>32</td>\n",
       "      <td>28.880</td>\n",
       "      <td>0</td>\n",
       "      <td>3866.85520</td>\n",
       "      <td>1</td>\n",
       "      <td>0</td>\n",
       "      <td>1</td>\n",
       "      <td>0</td>\n",
       "      <td>0</td>\n",
       "    </tr>\n",
       "  </tbody>\n",
       "</table>\n",
       "</div>"
      ],
      "text/plain": [
       "   age     bmi  children      charges  sex_male  smoker_yes  region_northwest  \\\n",
       "0   19  27.900         0  16884.92400         0           1                 0   \n",
       "1   18  33.770         1   1725.55230         1           0                 0   \n",
       "2   28  33.000         3   4449.46200         1           0                 0   \n",
       "3   33  22.705         0  21984.47061         1           0                 1   \n",
       "4   32  28.880         0   3866.85520         1           0                 1   \n",
       "\n",
       "   region_southeast  region_southwest  \n",
       "0                 0                 1  \n",
       "1                 1                 0  \n",
       "2                 1                 0  \n",
       "3                 0                 0  \n",
       "4                 0                 0  "
      ]
     },
     "execution_count": 15,
     "metadata": {},
     "output_type": "execute_result"
    }
   ],
   "source": [
    "df.head()"
   ]
  },
  {
   "cell_type": "code",
   "execution_count": 16,
   "id": "c816620a",
   "metadata": {},
   "outputs": [
    {
     "data": {
      "text/html": [
       "<div>\n",
       "<style scoped>\n",
       "    .dataframe tbody tr th:only-of-type {\n",
       "        vertical-align: middle;\n",
       "    }\n",
       "\n",
       "    .dataframe tbody tr th {\n",
       "        vertical-align: top;\n",
       "    }\n",
       "\n",
       "    .dataframe thead th {\n",
       "        text-align: right;\n",
       "    }\n",
       "</style>\n",
       "<table border=\"1\" class=\"dataframe\">\n",
       "  <thead>\n",
       "    <tr style=\"text-align: right;\">\n",
       "      <th></th>\n",
       "      <th>age</th>\n",
       "      <th>bmi</th>\n",
       "      <th>children</th>\n",
       "      <th>charges</th>\n",
       "      <th>sex_male</th>\n",
       "      <th>smoker_yes</th>\n",
       "      <th>region_northwest</th>\n",
       "      <th>region_southeast</th>\n",
       "      <th>region_southwest</th>\n",
       "    </tr>\n",
       "  </thead>\n",
       "  <tbody>\n",
       "    <tr>\n",
       "      <th>0</th>\n",
       "      <td>-1.439699</td>\n",
       "      <td>-0.459278</td>\n",
       "      <td>-0.897960</td>\n",
       "      <td>0.306156</td>\n",
       "      <td>0</td>\n",
       "      <td>1</td>\n",
       "      <td>0</td>\n",
       "      <td>0</td>\n",
       "      <td>1</td>\n",
       "    </tr>\n",
       "    <tr>\n",
       "      <th>1</th>\n",
       "      <td>-1.510994</td>\n",
       "      <td>0.501243</td>\n",
       "      <td>-0.072515</td>\n",
       "      <td>-0.953895</td>\n",
       "      <td>1</td>\n",
       "      <td>0</td>\n",
       "      <td>0</td>\n",
       "      <td>1</td>\n",
       "      <td>0</td>\n",
       "    </tr>\n",
       "    <tr>\n",
       "      <th>2</th>\n",
       "      <td>-0.798051</td>\n",
       "      <td>0.375246</td>\n",
       "      <td>1.578377</td>\n",
       "      <td>-0.727483</td>\n",
       "      <td>1</td>\n",
       "      <td>0</td>\n",
       "      <td>0</td>\n",
       "      <td>1</td>\n",
       "      <td>0</td>\n",
       "    </tr>\n",
       "    <tr>\n",
       "      <th>3</th>\n",
       "      <td>-0.441580</td>\n",
       "      <td>-1.309347</td>\n",
       "      <td>-0.897960</td>\n",
       "      <td>0.730032</td>\n",
       "      <td>1</td>\n",
       "      <td>0</td>\n",
       "      <td>1</td>\n",
       "      <td>0</td>\n",
       "      <td>0</td>\n",
       "    </tr>\n",
       "    <tr>\n",
       "      <th>4</th>\n",
       "      <td>-0.512874</td>\n",
       "      <td>-0.298918</td>\n",
       "      <td>-0.897960</td>\n",
       "      <td>-0.775910</td>\n",
       "      <td>1</td>\n",
       "      <td>0</td>\n",
       "      <td>1</td>\n",
       "      <td>0</td>\n",
       "      <td>0</td>\n",
       "    </tr>\n",
       "  </tbody>\n",
       "</table>\n",
       "</div>"
      ],
      "text/plain": [
       "        age       bmi  children   charges  sex_male  smoker_yes  \\\n",
       "0 -1.439699 -0.459278 -0.897960  0.306156         0           1   \n",
       "1 -1.510994  0.501243 -0.072515 -0.953895         1           0   \n",
       "2 -0.798051  0.375246  1.578377 -0.727483         1           0   \n",
       "3 -0.441580 -1.309347 -0.897960  0.730032         1           0   \n",
       "4 -0.512874 -0.298918 -0.897960 -0.775910         1           0   \n",
       "\n",
       "   region_northwest  region_southeast  region_southwest  \n",
       "0                 0                 0                 1  \n",
       "1                 0                 1                 0  \n",
       "2                 0                 1                 0  \n",
       "3                 1                 0                 0  \n",
       "4                 1                 0                 0  "
      ]
     },
     "execution_count": 16,
     "metadata": {},
     "output_type": "execute_result"
    }
   ],
   "source": [
    "# Perform attribute standardization\n",
    "\n",
    "\n",
    "from sklearn.preprocessing import StandardScaler\n",
    "numerical_columns = ['age', 'bmi', 'children', 'charges']\n",
    "scaler = StandardScaler()\n",
    "df[numerical_columns] = scaler.fit_transform(df[numerical_columns])\n",
    "\n",
    "df.head()"
   ]
  },
  {
   "cell_type": "code",
   "execution_count": 17,
   "id": "01501b79",
   "metadata": {},
   "outputs": [],
   "source": [
    "# Identify the features and target variable\n",
    "\n",
    "X = df.drop('charges', axis=1) \n",
    "y = df['charges']\n",
    "# Split the dataset into training and testing sets\n",
    "\n",
    "from sklearn.model_selection import train_test_split\n",
    "X_train, X_test, y_train, y_test = train_test_split(X, y, test_size=0.3, random_state=42)\n",
    "\n",
    "#the model and GridsearchCV\n",
    "from sklearn.linear_model import LinearRegression\n",
    "lg = LinearRegression()\n",
    "params = {'fit_intercept': [True, False],\n",
    "    'normalize': [True, False]}\n",
    "\n"
   ]
  },
  {
   "cell_type": "code",
   "execution_count": 18,
   "id": "6fc19e25",
   "metadata": {},
   "outputs": [],
   "source": [
    "from sklearn.model_selection import GridSearchCV\n",
    "lgCV = GridSearchCV(lg, param_grid=params ,cv=5, return_train_score=True)"
   ]
  },
  {
   "cell_type": "code",
   "execution_count": 19,
   "id": "4a64acf8",
   "metadata": {},
   "outputs": [
    {
     "name": "stderr",
     "output_type": "stream",
     "text": [
      "C:\\Users\\eslam\\anaconda3\\lib\\site-packages\\sklearn\\linear_model\\_base.py:141: FutureWarning: 'normalize' was deprecated in version 1.0 and will be removed in 1.2.\n",
      "If you wish to scale the data, use Pipeline with a StandardScaler in a preprocessing stage. To reproduce the previous behavior:\n",
      "\n",
      "from sklearn.pipeline import make_pipeline\n",
      "\n",
      "model = make_pipeline(StandardScaler(with_mean=False), LinearRegression())\n",
      "\n",
      "If you wish to pass a sample_weight parameter, you need to pass it as a fit parameter to each step of the pipeline as follows:\n",
      "\n",
      "kwargs = {s[0] + '__sample_weight': sample_weight for s in model.steps}\n",
      "model.fit(X, y, **kwargs)\n",
      "\n",
      "\n",
      "  warnings.warn(\n",
      "C:\\Users\\eslam\\anaconda3\\lib\\site-packages\\sklearn\\linear_model\\_base.py:141: FutureWarning: 'normalize' was deprecated in version 1.0 and will be removed in 1.2.\n",
      "If you wish to scale the data, use Pipeline with a StandardScaler in a preprocessing stage. To reproduce the previous behavior:\n",
      "\n",
      "from sklearn.pipeline import make_pipeline\n",
      "\n",
      "model = make_pipeline(StandardScaler(with_mean=False), LinearRegression())\n",
      "\n",
      "If you wish to pass a sample_weight parameter, you need to pass it as a fit parameter to each step of the pipeline as follows:\n",
      "\n",
      "kwargs = {s[0] + '__sample_weight': sample_weight for s in model.steps}\n",
      "model.fit(X, y, **kwargs)\n",
      "\n",
      "\n",
      "  warnings.warn(\n",
      "C:\\Users\\eslam\\anaconda3\\lib\\site-packages\\sklearn\\linear_model\\_base.py:141: FutureWarning: 'normalize' was deprecated in version 1.0 and will be removed in 1.2.\n",
      "If you wish to scale the data, use Pipeline with a StandardScaler in a preprocessing stage. To reproduce the previous behavior:\n",
      "\n",
      "from sklearn.pipeline import make_pipeline\n",
      "\n",
      "model = make_pipeline(StandardScaler(with_mean=False), LinearRegression())\n",
      "\n",
      "If you wish to pass a sample_weight parameter, you need to pass it as a fit parameter to each step of the pipeline as follows:\n",
      "\n",
      "kwargs = {s[0] + '__sample_weight': sample_weight for s in model.steps}\n",
      "model.fit(X, y, **kwargs)\n",
      "\n",
      "\n",
      "  warnings.warn(\n",
      "C:\\Users\\eslam\\anaconda3\\lib\\site-packages\\sklearn\\linear_model\\_base.py:141: FutureWarning: 'normalize' was deprecated in version 1.0 and will be removed in 1.2.\n",
      "If you wish to scale the data, use Pipeline with a StandardScaler in a preprocessing stage. To reproduce the previous behavior:\n",
      "\n",
      "from sklearn.pipeline import make_pipeline\n",
      "\n",
      "model = make_pipeline(StandardScaler(with_mean=False), LinearRegression())\n",
      "\n",
      "If you wish to pass a sample_weight parameter, you need to pass it as a fit parameter to each step of the pipeline as follows:\n",
      "\n",
      "kwargs = {s[0] + '__sample_weight': sample_weight for s in model.steps}\n",
      "model.fit(X, y, **kwargs)\n",
      "\n",
      "\n",
      "  warnings.warn(\n",
      "C:\\Users\\eslam\\anaconda3\\lib\\site-packages\\sklearn\\linear_model\\_base.py:141: FutureWarning: 'normalize' was deprecated in version 1.0 and will be removed in 1.2.\n",
      "If you wish to scale the data, use Pipeline with a StandardScaler in a preprocessing stage. To reproduce the previous behavior:\n",
      "\n",
      "from sklearn.pipeline import make_pipeline\n",
      "\n",
      "model = make_pipeline(StandardScaler(with_mean=False), LinearRegression())\n",
      "\n",
      "If you wish to pass a sample_weight parameter, you need to pass it as a fit parameter to each step of the pipeline as follows:\n",
      "\n",
      "kwargs = {s[0] + '__sample_weight': sample_weight for s in model.steps}\n",
      "model.fit(X, y, **kwargs)\n",
      "\n",
      "\n",
      "  warnings.warn(\n",
      "C:\\Users\\eslam\\anaconda3\\lib\\site-packages\\sklearn\\linear_model\\_base.py:148: FutureWarning: 'normalize' was deprecated in version 1.0 and will be removed in 1.2. Please leave the normalize parameter to its default value to silence this warning. The default behavior of this estimator is to not do any normalization. If normalization is needed please use sklearn.preprocessing.StandardScaler instead.\n",
      "  warnings.warn(\n",
      "C:\\Users\\eslam\\anaconda3\\lib\\site-packages\\sklearn\\linear_model\\_base.py:148: FutureWarning: 'normalize' was deprecated in version 1.0 and will be removed in 1.2. Please leave the normalize parameter to its default value to silence this warning. The default behavior of this estimator is to not do any normalization. If normalization is needed please use sklearn.preprocessing.StandardScaler instead.\n",
      "  warnings.warn(\n",
      "C:\\Users\\eslam\\anaconda3\\lib\\site-packages\\sklearn\\linear_model\\_base.py:148: FutureWarning: 'normalize' was deprecated in version 1.0 and will be removed in 1.2. Please leave the normalize parameter to its default value to silence this warning. The default behavior of this estimator is to not do any normalization. If normalization is needed please use sklearn.preprocessing.StandardScaler instead.\n",
      "  warnings.warn(\n",
      "C:\\Users\\eslam\\anaconda3\\lib\\site-packages\\sklearn\\linear_model\\_base.py:148: FutureWarning: 'normalize' was deprecated in version 1.0 and will be removed in 1.2. Please leave the normalize parameter to its default value to silence this warning. The default behavior of this estimator is to not do any normalization. If normalization is needed please use sklearn.preprocessing.StandardScaler instead.\n",
      "  warnings.warn(\n",
      "C:\\Users\\eslam\\anaconda3\\lib\\site-packages\\sklearn\\linear_model\\_base.py:148: FutureWarning: 'normalize' was deprecated in version 1.0 and will be removed in 1.2. Please leave the normalize parameter to its default value to silence this warning. The default behavior of this estimator is to not do any normalization. If normalization is needed please use sklearn.preprocessing.StandardScaler instead.\n",
      "  warnings.warn(\n",
      "C:\\Users\\eslam\\anaconda3\\lib\\site-packages\\sklearn\\linear_model\\_base.py:141: FutureWarning: 'normalize' was deprecated in version 1.0 and will be removed in 1.2.\n",
      "If you wish to scale the data, use Pipeline with a StandardScaler in a preprocessing stage. To reproduce the previous behavior:\n",
      "\n",
      "from sklearn.pipeline import make_pipeline\n",
      "\n",
      "model = make_pipeline(StandardScaler(with_mean=False), LinearRegression())\n",
      "\n",
      "If you wish to pass a sample_weight parameter, you need to pass it as a fit parameter to each step of the pipeline as follows:\n",
      "\n",
      "kwargs = {s[0] + '__sample_weight': sample_weight for s in model.steps}\n",
      "model.fit(X, y, **kwargs)\n",
      "\n",
      "\n",
      "  warnings.warn(\n",
      "C:\\Users\\eslam\\anaconda3\\lib\\site-packages\\sklearn\\linear_model\\_base.py:141: FutureWarning: 'normalize' was deprecated in version 1.0 and will be removed in 1.2.\n",
      "If you wish to scale the data, use Pipeline with a StandardScaler in a preprocessing stage. To reproduce the previous behavior:\n",
      "\n",
      "from sklearn.pipeline import make_pipeline\n",
      "\n",
      "model = make_pipeline(StandardScaler(with_mean=False), LinearRegression())\n",
      "\n",
      "If you wish to pass a sample_weight parameter, you need to pass it as a fit parameter to each step of the pipeline as follows:\n",
      "\n",
      "kwargs = {s[0] + '__sample_weight': sample_weight for s in model.steps}\n",
      "model.fit(X, y, **kwargs)\n",
      "\n",
      "\n",
      "  warnings.warn(\n",
      "C:\\Users\\eslam\\anaconda3\\lib\\site-packages\\sklearn\\linear_model\\_base.py:141: FutureWarning: 'normalize' was deprecated in version 1.0 and will be removed in 1.2.\n",
      "If you wish to scale the data, use Pipeline with a StandardScaler in a preprocessing stage. To reproduce the previous behavior:\n",
      "\n",
      "from sklearn.pipeline import make_pipeline\n",
      "\n",
      "model = make_pipeline(StandardScaler(with_mean=False), LinearRegression())\n",
      "\n",
      "If you wish to pass a sample_weight parameter, you need to pass it as a fit parameter to each step of the pipeline as follows:\n",
      "\n",
      "kwargs = {s[0] + '__sample_weight': sample_weight for s in model.steps}\n",
      "model.fit(X, y, **kwargs)\n",
      "\n",
      "\n",
      "  warnings.warn(\n",
      "C:\\Users\\eslam\\anaconda3\\lib\\site-packages\\sklearn\\linear_model\\_base.py:141: FutureWarning: 'normalize' was deprecated in version 1.0 and will be removed in 1.2.\n",
      "If you wish to scale the data, use Pipeline with a StandardScaler in a preprocessing stage. To reproduce the previous behavior:\n",
      "\n",
      "from sklearn.pipeline import make_pipeline\n",
      "\n",
      "model = make_pipeline(StandardScaler(with_mean=False), LinearRegression())\n",
      "\n",
      "If you wish to pass a sample_weight parameter, you need to pass it as a fit parameter to each step of the pipeline as follows:\n",
      "\n",
      "kwargs = {s[0] + '__sample_weight': sample_weight for s in model.steps}\n",
      "model.fit(X, y, **kwargs)\n",
      "\n",
      "\n",
      "  warnings.warn(\n",
      "C:\\Users\\eslam\\anaconda3\\lib\\site-packages\\sklearn\\linear_model\\_base.py:141: FutureWarning: 'normalize' was deprecated in version 1.0 and will be removed in 1.2.\n",
      "If you wish to scale the data, use Pipeline with a StandardScaler in a preprocessing stage. To reproduce the previous behavior:\n",
      "\n",
      "from sklearn.pipeline import make_pipeline\n",
      "\n",
      "model = make_pipeline(StandardScaler(with_mean=False), LinearRegression())\n",
      "\n",
      "If you wish to pass a sample_weight parameter, you need to pass it as a fit parameter to each step of the pipeline as follows:\n",
      "\n",
      "kwargs = {s[0] + '__sample_weight': sample_weight for s in model.steps}\n",
      "model.fit(X, y, **kwargs)\n",
      "\n",
      "\n",
      "  warnings.warn(\n",
      "C:\\Users\\eslam\\anaconda3\\lib\\site-packages\\sklearn\\linear_model\\_base.py:148: FutureWarning: 'normalize' was deprecated in version 1.0 and will be removed in 1.2. Please leave the normalize parameter to its default value to silence this warning. The default behavior of this estimator is to not do any normalization. If normalization is needed please use sklearn.preprocessing.StandardScaler instead.\n",
      "  warnings.warn(\n",
      "C:\\Users\\eslam\\anaconda3\\lib\\site-packages\\sklearn\\linear_model\\_base.py:148: FutureWarning: 'normalize' was deprecated in version 1.0 and will be removed in 1.2. Please leave the normalize parameter to its default value to silence this warning. The default behavior of this estimator is to not do any normalization. If normalization is needed please use sklearn.preprocessing.StandardScaler instead.\n",
      "  warnings.warn(\n",
      "C:\\Users\\eslam\\anaconda3\\lib\\site-packages\\sklearn\\linear_model\\_base.py:148: FutureWarning: 'normalize' was deprecated in version 1.0 and will be removed in 1.2. Please leave the normalize parameter to its default value to silence this warning. The default behavior of this estimator is to not do any normalization. If normalization is needed please use sklearn.preprocessing.StandardScaler instead.\n",
      "  warnings.warn(\n",
      "C:\\Users\\eslam\\anaconda3\\lib\\site-packages\\sklearn\\linear_model\\_base.py:148: FutureWarning: 'normalize' was deprecated in version 1.0 and will be removed in 1.2. Please leave the normalize parameter to its default value to silence this warning. The default behavior of this estimator is to not do any normalization. If normalization is needed please use sklearn.preprocessing.StandardScaler instead.\n",
      "  warnings.warn(\n",
      "C:\\Users\\eslam\\anaconda3\\lib\\site-packages\\sklearn\\linear_model\\_base.py:148: FutureWarning: 'normalize' was deprecated in version 1.0 and will be removed in 1.2. Please leave the normalize parameter to its default value to silence this warning. The default behavior of this estimator is to not do any normalization. If normalization is needed please use sklearn.preprocessing.StandardScaler instead.\n",
      "  warnings.warn(\n",
      "C:\\Users\\eslam\\anaconda3\\lib\\site-packages\\sklearn\\linear_model\\_base.py:141: FutureWarning: 'normalize' was deprecated in version 1.0 and will be removed in 1.2.\n",
      "If you wish to scale the data, use Pipeline with a StandardScaler in a preprocessing stage. To reproduce the previous behavior:\n",
      "\n",
      "from sklearn.pipeline import make_pipeline\n",
      "\n",
      "model = make_pipeline(StandardScaler(with_mean=False), LinearRegression())\n",
      "\n",
      "If you wish to pass a sample_weight parameter, you need to pass it as a fit parameter to each step of the pipeline as follows:\n",
      "\n",
      "kwargs = {s[0] + '__sample_weight': sample_weight for s in model.steps}\n",
      "model.fit(X, y, **kwargs)\n",
      "\n",
      "\n",
      "  warnings.warn(\n"
     ]
    },
    {
     "data": {
      "text/plain": [
       "GridSearchCV(cv=5, estimator=LinearRegression(),\n",
       "             param_grid={'fit_intercept': [True, False],\n",
       "                         'normalize': [True, False]},\n",
       "             return_train_score=True)"
      ]
     },
     "execution_count": 19,
     "metadata": {},
     "output_type": "execute_result"
    }
   ],
   "source": [
    "lgCV.fit(X_train,y_train)"
   ]
  },
  {
   "cell_type": "code",
   "execution_count": 20,
   "id": "043af7a3",
   "metadata": {},
   "outputs": [
    {
     "data": {
      "text/plain": [
       "{'mean_fit_time': array([0.00546508, 0.00195227, 0.00214748, 0.00214748]),\n",
       " 'std_fit_time': array([7.02712537e-03, 3.87384339e-07, 3.91101924e-04, 3.90506151e-04]),\n",
       " 'mean_score_time': array([0.00117135, 0.00156136, 0.00175691, 0.00117111]),\n",
       " 'std_score_time': array([0.00039017, 0.00047777, 0.00039065, 0.00038993]),\n",
       " 'param_fit_intercept': masked_array(data=[True, True, False, False],\n",
       "              mask=[False, False, False, False],\n",
       "        fill_value='?',\n",
       "             dtype=object),\n",
       " 'param_normalize': masked_array(data=[True, False, True, False],\n",
       "              mask=[False, False, False, False],\n",
       "        fill_value='?',\n",
       "             dtype=object),\n",
       " 'params': [{'fit_intercept': True, 'normalize': True},\n",
       "  {'fit_intercept': True, 'normalize': False},\n",
       "  {'fit_intercept': False, 'normalize': True},\n",
       "  {'fit_intercept': False, 'normalize': False}],\n",
       " 'split0_test_score': array([0.79911542, 0.79911542, 0.78014911, 0.78014911]),\n",
       " 'split1_test_score': array([0.74860014, 0.74860014, 0.7224316 , 0.7224316 ]),\n",
       " 'split2_test_score': array([0.71528527, 0.71528527, 0.69040094, 0.69040094]),\n",
       " 'split3_test_score': array([0.76180623, 0.76180623, 0.73712334, 0.73712334]),\n",
       " 'split4_test_score': array([0.67399588, 0.67399588, 0.66680499, 0.66680499]),\n",
       " 'mean_test_score': array([0.73976059, 0.73976059, 0.71938199, 0.71938199]),\n",
       " 'std_test_score': array([0.04245276, 0.04245276, 0.03904085, 0.03904085]),\n",
       " 'rank_test_score': array([1, 2, 3, 3]),\n",
       " 'split0_train_score': array([0.73198377, 0.73198377, 0.71021928, 0.71021928]),\n",
       " 'split1_train_score': array([0.7481208 , 0.7481208 , 0.72840385, 0.72840385]),\n",
       " 'split2_train_score': array([0.75524572, 0.75524572, 0.7352033 , 0.7352033 ]),\n",
       " 'split3_train_score': array([0.74468658, 0.74468658, 0.72441344, 0.72441344]),\n",
       " 'split4_train_score': array([0.76513367, 0.76513367, 0.74101397, 0.74101397]),\n",
       " 'mean_train_score': array([0.74903411, 0.74903411, 0.72785077, 0.72785077]),\n",
       " 'std_train_score': array([0.01102931, 0.01102931, 0.01049114, 0.01049114])}"
      ]
     },
     "execution_count": 20,
     "metadata": {},
     "output_type": "execute_result"
    }
   ],
   "source": [
    "lgCV.cv_results_"
   ]
  },
  {
   "cell_type": "code",
   "execution_count": 21,
   "id": "979accb2",
   "metadata": {},
   "outputs": [],
   "source": [
    "lgBest = lgCV.best_estimator_\n"
   ]
  },
  {
   "cell_type": "code",
   "execution_count": 22,
   "id": "575fe2d0",
   "metadata": {},
   "outputs": [
    {
     "name": "stderr",
     "output_type": "stream",
     "text": [
      "C:\\Users\\eslam\\anaconda3\\lib\\site-packages\\sklearn\\linear_model\\_base.py:141: FutureWarning: 'normalize' was deprecated in version 1.0 and will be removed in 1.2.\n",
      "If you wish to scale the data, use Pipeline with a StandardScaler in a preprocessing stage. To reproduce the previous behavior:\n",
      "\n",
      "from sklearn.pipeline import make_pipeline\n",
      "\n",
      "model = make_pipeline(StandardScaler(with_mean=False), LinearRegression())\n",
      "\n",
      "If you wish to pass a sample_weight parameter, you need to pass it as a fit parameter to each step of the pipeline as follows:\n",
      "\n",
      "kwargs = {s[0] + '__sample_weight': sample_weight for s in model.steps}\n",
      "model.fit(X, y, **kwargs)\n",
      "\n",
      "\n",
      "  warnings.warn(\n"
     ]
    },
    {
     "data": {
      "text/plain": [
       "LinearRegression(normalize=True)"
      ]
     },
     "execution_count": 22,
     "metadata": {},
     "output_type": "execute_result"
    }
   ],
   "source": [
    "lgBest.fit(X_train,y_train)"
   ]
  },
  {
   "cell_type": "code",
   "execution_count": 23,
   "id": "6a1ca543",
   "metadata": {},
   "outputs": [
    {
     "data": {
      "text/plain": [
       "array([-0.26186647,  0.02563894, -0.44977672, -0.49078883, -0.27906711,\n",
       "       -0.83743188, -0.02530714, -0.72727313,  2.24640517, -0.13331206,\n",
       "        0.14184204,  0.12825241, -0.35434186, -0.66909497,  0.07446495,\n",
       "        0.14771533, -0.87220159, -0.57294126, -0.72550952,  0.15331758,\n",
       "       -0.18313905, -0.18713049, -0.7923225 ,  2.23693436,  0.27567264,\n",
       "       -0.3324027 , -0.71197937, -0.1171961 , -0.17115997,  0.08334963,\n",
       "       -0.13462269, -0.65530999, -0.7608548 , -0.49882767, -0.06686131,\n",
       "       -0.48434812, -0.4905592 , -0.22481303, -0.69183751,  1.92897714,\n",
       "       -0.20230579, -0.06168982, -0.59189525, -0.69523552, -0.11094676,\n",
       "       -0.80223524, -0.4466517 , -0.82959549, -0.3163795 , -0.19201779,\n",
       "       -0.40156486, -0.06113291,  1.80886998,  1.4816337 , -0.99889534,\n",
       "       -0.4468925 ,  1.30643044, -0.70049418, -0.78745143, -0.04754627,\n",
       "       -0.42609624, -0.60181418,  1.55644687,  1.63888798, -0.73287435,\n",
       "       -0.97476596,  1.25737231,  0.38669192, -0.43544788,  1.92713733,\n",
       "       -0.03765403, -0.72820966,  1.06235242, -1.13298723,  1.56444082,\n",
       "       -0.72539821, -0.74478506,  1.59507586,  1.29421295,  1.73606984,\n",
       "       -0.47688464,  0.86616929, -0.38543481,  1.88830553, -0.15374693,\n",
       "       -0.54231659, -0.34283931, -0.37737554, -0.98353233, -0.50868734,\n",
       "       -0.36394234, -0.66570954, -0.59804103, -0.57076045,  0.18909417,\n",
       "       -0.20261053,  2.13489547,  2.07149045, -0.8603548 ,  1.73790104,\n",
       "       -0.36156884, -0.36636572,  1.40987513,  1.10318986,  0.13381324,\n",
       "        1.89925542, -0.11508869,  0.102096  , -0.62416764,  1.56937721,\n",
       "        1.43863562,  0.27437804, -0.62272762, -0.67459709, -0.37618803,\n",
       "        1.31601433, -0.4075625 , -0.49982812, -0.1027026 , -0.57259461,\n",
       "        1.86849126, -0.49474498, -0.86552221, -0.0890257 ,  1.68239401,\n",
       "       -0.81853889,  1.65617225,  1.68287079, -0.19762045, -0.37820647,\n",
       "       -0.39119138, -0.74024514, -0.79472311,  1.19134519, -0.31448901,\n",
       "       -0.39813387,  1.92935794,  0.17255553, -0.33177491,  0.36312693,\n",
       "       -0.63409355, -0.2817453 , -0.61712661, -1.21109592, -0.41082528,\n",
       "        0.12386878, -0.31927348, -0.69719514,  0.16659148, -0.01427819,\n",
       "       -0.77392174, -0.64154641, -0.61172028, -0.17897181, -1.08279257,\n",
       "       -0.52747985, -0.78610083,  1.39790708, -0.60476432,  1.46112656,\n",
       "       -0.36341458, -0.79919569, -0.05420296, -1.15896816, -0.92205218,\n",
       "        0.18992212, -0.69143016, -0.89696995, -0.08429567,  1.39764186,\n",
       "       -0.63847027,  1.72508744, -0.5680475 , -0.81608607, -0.31278425,\n",
       "       -0.46337365,  1.3754179 , -0.3577922 , -0.50306209, -1.04120958,\n",
       "       -0.79867029, -0.91582944,  2.14846543,  1.23948746,  0.38748161,\n",
       "       -0.55160359,  0.08394501, -0.65598778,  1.47089757, -0.24055152,\n",
       "       -0.90786333, -0.86352365, -0.20667697,  1.38151974,  0.20924067,\n",
       "       -0.75222918, -0.43590596, -0.53801007, -0.49394786,  1.07299171,\n",
       "        1.14559976,  0.07856664, -1.24954662, -0.15561371, -0.26369168,\n",
       "       -0.0408401 , -0.55946369, -0.55424831, -0.02429938, -1.17315368,\n",
       "       -0.62433191, -0.28504146, -0.93270353, -0.74158   , -0.88942542,\n",
       "       -0.50607022, -0.59989655, -1.0234994 , -0.99614974, -0.8967658 ,\n",
       "        0.11920702, -0.39177261,  1.97629897, -0.43981745, -0.53395203,\n",
       "       -0.32374224, -0.52535648, -0.17356596, -0.40887125, -0.45666205,\n",
       "       -0.52007098, -0.73355214, -0.03103172,  2.08690142,  0.06279408,\n",
       "       -0.11112407,  0.04041322, -0.80872494, -0.27027324, -0.24497705,\n",
       "       -0.91529912, -0.29525073, -0.11100954, -0.77163773, -0.26063389,\n",
       "       -0.88133591, -0.14333599, -0.76964229, -0.00807284,  0.01191887,\n",
       "       -0.44831433, -0.63649673, -0.25871876, -0.42526636, -0.95655897,\n",
       "        0.09608675, -0.66968553,  0.01872562, -1.08451214,  1.0425817 ,\n",
       "       -0.68161897,  1.50899582,  0.1872442 , -0.31316933, -0.18504383,\n",
       "        1.30356819, -0.4466242 , -0.25081748,  1.08393884, -0.45729405,\n",
       "       -1.18398341,  0.10809346, -0.57048308, -0.0236683 ,  1.57142228,\n",
       "       -0.57513252, -0.33776422, -0.90707509, -0.21235168, -0.67766049,\n",
       "        0.25860272, -0.36197714,  0.17458556, -0.44858962, -0.1026942 ,\n",
       "       -0.33015084, -0.84733137, -1.19752058,  1.54353523, -0.42021739,\n",
       "        0.01750914, -1.09893797,  0.06652226,  1.47949913,  1.99562752,\n",
       "       -0.58542011, -0.26081397,  1.3299162 ,  1.45308745,  2.1669919 ,\n",
       "       -0.45358888,  2.18046559,  2.16852677,  1.26244259,  0.84268121,\n",
       "       -0.89460204, -0.81035754, -0.17596653, -0.07295078, -0.81715416,\n",
       "        2.10569561,  1.95646098,  1.08957765,  0.99616429,  0.04445465,\n",
       "       -0.43980384, -0.77654247, -0.65619192, -0.24666375, -0.69674577,\n",
       "        1.74623808, -0.79756809, -0.40195532, -0.37686373, -0.38047739,\n",
       "        1.28274812, -0.66320283, -0.7119522 , -0.43209686, -0.79785949,\n",
       "       -0.13637105, -0.72349251, -0.4572554 , -0.88126229, -0.169296  ,\n",
       "        0.30282647, -0.53089561, -0.69986004,  1.67355584, -0.71911266,\n",
       "       -0.54508371, -0.68328464,  1.91076855,  1.3554202 ,  2.11068351,\n",
       "       -0.33778398, -0.89249755, -0.29836644, -0.98379283,  0.04001581,\n",
       "        1.82239967, -0.26612221,  0.0753553 ,  1.18842488, -0.89245997,\n",
       "       -0.12804242,  0.03799859, -0.20415344,  1.65098216, -0.55309718,\n",
       "       -0.23433033, -0.86212515, -0.58457668, -0.98860629,  0.02049529,\n",
       "        1.31483153])"
      ]
     },
     "execution_count": 23,
     "metadata": {},
     "output_type": "execute_result"
    }
   ],
   "source": [
    "lgBest.predict(X_test)"
   ]
  },
  {
   "cell_type": "code",
   "execution_count": 24,
   "id": "f906e269",
   "metadata": {},
   "outputs": [
    {
     "data": {
      "text/plain": [
       "0.7429622776920746"
      ]
     },
     "execution_count": 24,
     "metadata": {},
     "output_type": "execute_result"
    }
   ],
   "source": [
    "lgBest.score(X_test,y_test)"
   ]
  },
  {
   "cell_type": "code",
   "execution_count": 36,
   "id": "a79f3674",
   "metadata": {},
   "outputs": [
    {
     "data": {
      "text/plain": [
       "0.7486075301109403"
      ]
     },
     "execution_count": 36,
     "metadata": {},
     "output_type": "execute_result"
    }
   ],
   "source": [
    "lgBest.score(X_train,y_train)\n"
   ]
  },
  {
   "cell_type": "code",
   "execution_count": 38,
   "id": "e7583700",
   "metadata": {},
   "outputs": [
    {
     "name": "stdout",
     "output_type": "stream",
     "text": [
      "R2 Score: 0.7429622776920746\n"
     ]
    }
   ],
   "source": [
    "from sklearn.metrics import r2_score\n",
    "r2 = r2_score(y_test,lgBest.predict(X_test) )\n",
    "print('R2 Score:', r2)\n"
   ]
  },
  {
   "cell_type": "code",
   "execution_count": 26,
   "id": "4023b974",
   "metadata": {},
   "outputs": [],
   "source": [
    "#Load my hidden test set and do the same data analysis :\n",
    "\n",
    "\n",
    "df2 = pd.read_csv('C:\\\\Users\\\\eslam\\\\Desktop\\\\project\\\\insurance_test_hidden.csv')"
   ]
  },
  {
   "cell_type": "code",
   "execution_count": 27,
   "id": "99480d60",
   "metadata": {},
   "outputs": [
    {
     "data": {
      "text/html": [
       "<div>\n",
       "<style scoped>\n",
       "    .dataframe tbody tr th:only-of-type {\n",
       "        vertical-align: middle;\n",
       "    }\n",
       "\n",
       "    .dataframe tbody tr th {\n",
       "        vertical-align: top;\n",
       "    }\n",
       "\n",
       "    .dataframe thead th {\n",
       "        text-align: right;\n",
       "    }\n",
       "</style>\n",
       "<table border=\"1\" class=\"dataframe\">\n",
       "  <thead>\n",
       "    <tr style=\"text-align: right;\">\n",
       "      <th></th>\n",
       "      <th>age</th>\n",
       "      <th>sex</th>\n",
       "      <th>bmi</th>\n",
       "      <th>children</th>\n",
       "      <th>smoker</th>\n",
       "      <th>region</th>\n",
       "    </tr>\n",
       "  </thead>\n",
       "  <tbody>\n",
       "    <tr>\n",
       "      <th>0</th>\n",
       "      <td>18</td>\n",
       "      <td>female</td>\n",
       "      <td>38.280</td>\n",
       "      <td>0</td>\n",
       "      <td>no</td>\n",
       "      <td>southeast</td>\n",
       "    </tr>\n",
       "    <tr>\n",
       "      <th>1</th>\n",
       "      <td>22</td>\n",
       "      <td>male</td>\n",
       "      <td>19.950</td>\n",
       "      <td>3</td>\n",
       "      <td>no</td>\n",
       "      <td>northeast</td>\n",
       "    </tr>\n",
       "    <tr>\n",
       "      <th>2</th>\n",
       "      <td>44</td>\n",
       "      <td>female</td>\n",
       "      <td>26.410</td>\n",
       "      <td>0</td>\n",
       "      <td>no</td>\n",
       "      <td>northwest</td>\n",
       "    </tr>\n",
       "    <tr>\n",
       "      <th>3</th>\n",
       "      <td>44</td>\n",
       "      <td>male</td>\n",
       "      <td>30.690</td>\n",
       "      <td>2</td>\n",
       "      <td>no</td>\n",
       "      <td>southeast</td>\n",
       "    </tr>\n",
       "    <tr>\n",
       "      <th>4</th>\n",
       "      <td>36</td>\n",
       "      <td>male</td>\n",
       "      <td>41.895</td>\n",
       "      <td>3</td>\n",
       "      <td>yes</td>\n",
       "      <td>northeast</td>\n",
       "    </tr>\n",
       "  </tbody>\n",
       "</table>\n",
       "</div>"
      ],
      "text/plain": [
       "   age     sex     bmi  children smoker     region\n",
       "0   18  female  38.280         0     no  southeast\n",
       "1   22    male  19.950         3     no  northeast\n",
       "2   44  female  26.410         0     no  northwest\n",
       "3   44    male  30.690         2     no  southeast\n",
       "4   36    male  41.895         3    yes  northeast"
      ]
     },
     "execution_count": 27,
     "metadata": {},
     "output_type": "execute_result"
    }
   ],
   "source": [
    "df2.head()"
   ]
  },
  {
   "cell_type": "code",
   "execution_count": 28,
   "id": "fd9ee296",
   "metadata": {},
   "outputs": [
    {
     "data": {
      "text/plain": [
       "age          42\n",
       "sex           2\n",
       "bmi         104\n",
       "children      5\n",
       "smoker        2\n",
       "region        4\n",
       "dtype: int64"
      ]
     },
     "execution_count": 28,
     "metadata": {},
     "output_type": "execute_result"
    }
   ],
   "source": [
    "df2.nunique()"
   ]
  },
  {
   "cell_type": "code",
   "execution_count": 29,
   "id": "5cb300b4",
   "metadata": {},
   "outputs": [
    {
     "data": {
      "text/plain": [
       "age         0\n",
       "sex         0\n",
       "bmi         0\n",
       "children    0\n",
       "smoker      0\n",
       "region      0\n",
       "dtype: int64"
      ]
     },
     "execution_count": 29,
     "metadata": {},
     "output_type": "execute_result"
    }
   ],
   "source": [
    "df2.isnull().sum()"
   ]
  },
  {
   "cell_type": "code",
   "execution_count": 30,
   "id": "6687df16",
   "metadata": {},
   "outputs": [
    {
     "data": {
      "text/plain": [
       "Index(['sex', 'smoker', 'region'], dtype='object')"
      ]
     },
     "execution_count": 30,
     "metadata": {},
     "output_type": "execute_result"
    }
   ],
   "source": [
    "# Identify categorical columns\n",
    "\n",
    "\n",
    "categorical_columns = df2.select_dtypes(include=['object']).columns\n",
    "categorical_columns"
   ]
  },
  {
   "cell_type": "code",
   "execution_count": 31,
   "id": "4fadd42d",
   "metadata": {},
   "outputs": [
    {
     "name": "stdout",
     "output_type": "stream",
     "text": [
      "   age     bmi  children  sex_male  smoker_yes  region_northwest  \\\n",
      "0   18  38.280         0         0           0                 0   \n",
      "1   22  19.950         3         1           0                 0   \n",
      "2   44  26.410         0         0           0                 1   \n",
      "3   44  30.690         2         1           0                 0   \n",
      "4   36  41.895         3         1           1                 0   \n",
      "\n",
      "   region_southeast  region_southwest  \n",
      "0                 1                 0  \n",
      "1                 0                 0  \n",
      "2                 0                 0  \n",
      "3                 1                 0  \n",
      "4                 0                 0  \n"
     ]
    }
   ],
   "source": [
    "# Perform one-hot encoding for categorical columns\n",
    "\n",
    "\n",
    "from sklearn.preprocessing import OneHotEncoder\n",
    "df2 = pd.get_dummies(df2, columns=['sex'], prefix = ['sex'] , drop_first=True)\n",
    "df2 = pd.get_dummies(df2, columns=['smoker'], prefix = ['smoker'] , drop_first=True)\n",
    "df2 = pd.get_dummies(df2, columns=['region'], prefix = ['region'] , drop_first=True)\n",
    "\n",
    "print(df2.head())"
   ]
  },
  {
   "cell_type": "code",
   "execution_count": 32,
   "id": "0de2f06a",
   "metadata": {},
   "outputs": [
    {
     "data": {
      "text/html": [
       "<div>\n",
       "<style scoped>\n",
       "    .dataframe tbody tr th:only-of-type {\n",
       "        vertical-align: middle;\n",
       "    }\n",
       "\n",
       "    .dataframe tbody tr th {\n",
       "        vertical-align: top;\n",
       "    }\n",
       "\n",
       "    .dataframe thead th {\n",
       "        text-align: right;\n",
       "    }\n",
       "</style>\n",
       "<table border=\"1\" class=\"dataframe\">\n",
       "  <thead>\n",
       "    <tr style=\"text-align: right;\">\n",
       "      <th></th>\n",
       "      <th>age</th>\n",
       "      <th>bmi</th>\n",
       "      <th>children</th>\n",
       "      <th>sex_male</th>\n",
       "      <th>smoker_yes</th>\n",
       "      <th>region_northwest</th>\n",
       "      <th>region_southeast</th>\n",
       "      <th>region_southwest</th>\n",
       "    </tr>\n",
       "  </thead>\n",
       "  <tbody>\n",
       "    <tr>\n",
       "      <th>0</th>\n",
       "      <td>-1.499894</td>\n",
       "      <td>1.360999</td>\n",
       "      <td>-1.027635</td>\n",
       "      <td>0</td>\n",
       "      <td>0</td>\n",
       "      <td>0</td>\n",
       "      <td>1</td>\n",
       "      <td>0</td>\n",
       "    </tr>\n",
       "    <tr>\n",
       "      <th>1</th>\n",
       "      <td>-1.218774</td>\n",
       "      <td>-1.735393</td>\n",
       "      <td>1.614856</td>\n",
       "      <td>1</td>\n",
       "      <td>0</td>\n",
       "      <td>0</td>\n",
       "      <td>0</td>\n",
       "      <td>0</td>\n",
       "    </tr>\n",
       "    <tr>\n",
       "      <th>2</th>\n",
       "      <td>0.327388</td>\n",
       "      <td>-0.644138</td>\n",
       "      <td>-1.027635</td>\n",
       "      <td>0</td>\n",
       "      <td>0</td>\n",
       "      <td>1</td>\n",
       "      <td>0</td>\n",
       "      <td>0</td>\n",
       "    </tr>\n",
       "    <tr>\n",
       "      <th>3</th>\n",
       "      <td>0.327388</td>\n",
       "      <td>0.078860</td>\n",
       "      <td>0.734025</td>\n",
       "      <td>1</td>\n",
       "      <td>0</td>\n",
       "      <td>0</td>\n",
       "      <td>1</td>\n",
       "      <td>0</td>\n",
       "    </tr>\n",
       "    <tr>\n",
       "      <th>4</th>\n",
       "      <td>-0.234853</td>\n",
       "      <td>1.971662</td>\n",
       "      <td>1.614856</td>\n",
       "      <td>1</td>\n",
       "      <td>1</td>\n",
       "      <td>0</td>\n",
       "      <td>0</td>\n",
       "      <td>0</td>\n",
       "    </tr>\n",
       "  </tbody>\n",
       "</table>\n",
       "</div>"
      ],
      "text/plain": [
       "        age       bmi  children  sex_male  smoker_yes  region_northwest  \\\n",
       "0 -1.499894  1.360999 -1.027635         0           0                 0   \n",
       "1 -1.218774 -1.735393  1.614856         1           0                 0   \n",
       "2  0.327388 -0.644138 -1.027635         0           0                 1   \n",
       "3  0.327388  0.078860  0.734025         1           0                 0   \n",
       "4 -0.234853  1.971662  1.614856         1           1                 0   \n",
       "\n",
       "   region_southeast  region_southwest  \n",
       "0                 1                 0  \n",
       "1                 0                 0  \n",
       "2                 0                 0  \n",
       "3                 1                 0  \n",
       "4                 0                 0  "
      ]
     },
     "execution_count": 32,
     "metadata": {},
     "output_type": "execute_result"
    }
   ],
   "source": [
    "# Perform attribute standardization\n",
    "\n",
    "\n",
    "from sklearn.preprocessing import StandardScaler\n",
    "numerical_columns = ['age', 'bmi', 'children']\n",
    "scaler = StandardScaler()\n",
    "df2[numerical_columns] = scaler.fit_transform(df2[numerical_columns])\n",
    "\n",
    "df2.head()"
   ]
  },
  {
   "cell_type": "code",
   "execution_count": 33,
   "id": "ad3e14ee",
   "metadata": {},
   "outputs": [
    {
     "data": {
      "text/plain": [
       "array([-0.71158421, -0.90360353, -0.47080338, -0.318139  ,  1.96639756,\n",
       "       -0.68947726, -0.50505082, -0.33526953, -0.52687442, -0.03718654,\n",
       "       -0.65133959, -0.93759653, -0.17372791, -0.83810579, -0.88501184,\n",
       "       -0.40541413, -0.33715571, -0.5610706 ,  0.37952005, -0.82361389,\n",
       "       -0.22018649, -0.20942424,  1.38113765, -0.57440834, -0.60407462,\n",
       "       -0.22265838,  1.50433494,  0.0582766 , -0.03198493, -0.76200904,\n",
       "       -0.26308211, -0.74911315, -0.66070225, -0.2437199 , -0.15236969,\n",
       "       -0.28112758, -0.97041461, -0.73542184, -1.00988133, -0.43673968,\n",
       "       -0.01575164, -0.48578963,  1.19171814,  1.34975065,  0.0423016 ,\n",
       "       -0.53179677,  0.20927579, -0.26076679, -0.28341748, -0.1923376 ,\n",
       "       -0.02594223, -1.2343656 , -0.11681806, -0.55335837,  1.35194446,\n",
       "       -1.03440734, -0.36922901,  1.04235077, -0.15809167,  1.5270224 ,\n",
       "       -0.69017257, -0.19940936, -0.19613412,  2.00494058, -0.18396723,\n",
       "        0.14263815, -0.67522702, -1.12068973, -0.5998482 ,  0.86401132,\n",
       "        2.13119245,  1.9549422 , -0.60218982,  1.83389726, -0.05733404,\n",
       "        1.92774922, -0.24961696, -0.2183041 ,  1.12200842, -0.22861892,\n",
       "        1.02542849,  1.80293588,  1.26273694,  0.13707663,  2.06451995,\n",
       "        1.2194469 ,  0.22109498, -0.32814337, -0.27777096, -0.93358849,\n",
       "        1.90187326, -0.16189463, -0.21214659, -0.84706981, -0.23264055,\n",
       "       -1.07192449, -0.99123515,  0.01988155, -0.45695847,  1.59035042,\n",
       "        2.29795457, -0.61653674,  0.0472657 , -0.18382879, -0.43687023,\n",
       "        0.34696208, -0.08689827,  2.22119426, -0.2282199 , -0.61397946,\n",
       "       -0.58126141,  1.67755037, -0.8940516 , -0.74098507, -1.0384092 ,\n",
       "        0.99327276,  1.51964193,  1.57469916, -0.27388205, -0.40439266])"
      ]
     },
     "execution_count": 33,
     "metadata": {},
     "output_type": "execute_result"
    }
   ],
   "source": [
    "#doing the prediction to the hidden test set\n",
    "\n",
    "lgBest.predict(df2)"
   ]
  },
  {
   "cell_type": "code",
   "execution_count": 34,
   "id": "4925db41",
   "metadata": {},
   "outputs": [],
   "source": [
    "prediction = pd.DataFrame(lgBest.predict(df2))\n"
   ]
  },
  {
   "cell_type": "code",
   "execution_count": 35,
   "id": "b7ac529d",
   "metadata": {},
   "outputs": [],
   "source": [
    "#perform the prediction to a csv file\n",
    "\n",
    "prediction.to_csv('C:\\\\Users\\\\eslam\\\\Desktop\\\\project\\\\prediction_eslam_samir.csv' , index = False)\n"
   ]
  }
 ],
 "metadata": {
  "kernelspec": {
   "display_name": "Python 3 (ipykernel)",
   "language": "python",
   "name": "python3"
  },
  "language_info": {
   "codemirror_mode": {
    "name": "ipython",
    "version": 3
   },
   "file_extension": ".py",
   "mimetype": "text/x-python",
   "name": "python",
   "nbconvert_exporter": "python",
   "pygments_lexer": "ipython3",
   "version": "3.9.12"
  }
 },
 "nbformat": 4,
 "nbformat_minor": 5
}
